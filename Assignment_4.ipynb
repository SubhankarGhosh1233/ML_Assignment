{
 "cells": [
  {
   "cell_type": "markdown",
   "id": "9af5af61",
   "metadata": {},
   "source": [
    "# Assignment_4"
   ]
  },
  {
   "cell_type": "markdown",
   "id": "44686ee3",
   "metadata": {},
   "source": [
    "## 1. What are the key tasks involved in getting ready to work with machine learning modeling?"
   ]
  },
  {
   "cell_type": "markdown",
   "id": "bc48a7d8",
   "metadata": {},
   "source": [
    "Ans:- The key tasks involved in getting ready to work with machine learning modeling are Gathering Data, Data preparation, Data Wrangling, Analyse Data, Train the model, Test the model, Deployment."
   ]
  },
  {
   "cell_type": "markdown",
   "id": "394468b8",
   "metadata": {},
   "source": [
    "## 2. What are the different forms of data used in machine learning? Give a specific example for each of them."
   ]
  },
  {
   "cell_type": "markdown",
   "id": "522f8c07",
   "metadata": {},
   "source": [
    "Ans:- The different forms of data used in machine learning are numerical data, categorical data, time-series data, and text.\n",
    "1. Numerical Data- Numerical data can be two types - continuous(salary,weight, height, temperature, interest rates, 22.34,34.67,56.45) or discrete data (number of student, sold units, 10,34,67,89). \n",
    "2. Categorical Data- we would use 1 for the colour red and 2 for blue. But these numbers don’t have a mathematical meaning. That is, we can’t add them together or take the average.\n",
    "3. Time Series Data- Time series data is a sequence of numbers collected at regular intervals over some period of time. It is very important, especially in particular fields like finance. \n",
    "4. Text Data- Text data is basically just words. A lot of the time the first thing that you do with text is you turn it into numbers using some interesting functions like the bag of words formulation."
   ]
  },
  {
   "cell_type": "markdown",
   "id": "27249a4a",
   "metadata": {},
   "source": [
    "## 3. Distinguish:\n",
    "\n",
    "1. Numeric vs. categorical attributes\n",
    "\n",
    "2. Feature selection vs. dimensionality reduction"
   ]
  },
  {
   "cell_type": "markdown",
   "id": "ae8cc0c9",
   "metadata": {},
   "source": [
    "Ans:-\n",
    "Numeric vs. categorical attributes- \n",
    "1. Numerical data refers to the data that is in the form of numbers, and not in any language or descriptive form. Where, Categorical data refers to a data type that can be stored and identified based on the names or labels given to them.\n",
    "2. Numerical data known as quantitative data as it represents quantitative values to perform arithmetic operations, where categorical data known as qualitative data as it qualifies data before classifying it.\n",
    "3. Two types of Numerical data are Discrete data and Continuous data. ,where the types of categorical data are Nominal data and Ordinal data."
   ]
  },
  {
   "cell_type": "markdown",
   "id": "c862e11b",
   "metadata": {},
   "source": [
    "2. Feature selection vs. dimensionality reduction-  Both methods are used for reducing the number of features in a dataset, Feature selection is simply selecting and excluding given features without changing them. Dimensionality reduction transforms features into a lower dimension."
   ]
  },
  {
   "cell_type": "markdown",
   "id": "67de0c14",
   "metadata": {},
   "source": [
    "## 4. Make quick notes on any two of the following:\n",
    "\n",
    "1. The histogram\n",
    "\n",
    "2. Use a scatter plot\n",
    "\n",
    "3.PCA (Personal Computer Aid)"
   ]
  },
  {
   "cell_type": "markdown",
   "id": "4d39c5ba",
   "metadata": {},
   "source": [
    "Ans:-\n",
    "1. The histogram - A histogram is a display of statistical information that uses rectangles to show the frequency of data items in successive numerical intervals of equal size.\n",
    "2. Use a scatter plot - Scatter plots are used to plot data points on a horizontal and a vertical axis in the attempt to show how much one variable is affected by another. "
   ]
  },
  {
   "cell_type": "markdown",
   "id": "1addf76e",
   "metadata": {},
   "source": [
    "## 5. Why is it necessary to investigate data? Is there a discrepancy in how qualitative and quantitative data are explored?"
   ]
  },
  {
   "cell_type": "markdown",
   "id": "3b4a8772",
   "metadata": {},
   "source": [
    "Ans:-Machine learning data analysis uses algorithms to continuously improve itself over time, but quality data is necessary for these models to operate efficiently.To truly understand how machine learning works, we must also understand the data by which it operates, so, it is necessary toinvestigate data."
   ]
  },
  {
   "cell_type": "markdown",
   "id": "2826c0c8",
   "metadata": {},
   "source": [
    "The combination of qualitative and quantitative data can also lead to clashes in the philosophical assumptions behind each approach."
   ]
  },
  {
   "cell_type": "markdown",
   "id": "29a12ee9",
   "metadata": {},
   "source": [
    "## 6. What are the various histogram shapes? What exactly are ‘bins&#39;?"
   ]
  },
  {
   "cell_type": "markdown",
   "id": "64bd655e",
   "metadata": {},
   "source": [
    "Ans:-The various histogram shapes are Normal Distribution, Skewed Distribution, Bimodal Distribution, Multimodal Distribution, Edge Peak Distribution, Comb Distribution, Heart-Cut Distribution, Dog Food Distribution."
   ]
  },
  {
   "cell_type": "markdown",
   "id": "28322017",
   "metadata": {},
   "source": [
    "A bin is a single range of continuous values used to group values in a chart. Binning data helps simplify data visualizations."
   ]
  },
  {
   "cell_type": "markdown",
   "id": "894d57fe",
   "metadata": {},
   "source": [
    "## 7. How do we deal with data outliers?"
   ]
  },
  {
   "cell_type": "markdown",
   "id": "cb5da0e5",
   "metadata": {},
   "source": [
    "Ans:- We can deal with data outliers by some steps -\n",
    "1. Set up a filter in your testing tool,\n",
    "2. Remove or change outliers during post-test analysis\n",
    "3. Change the value of outliers\n",
    "4. Consider the underlying distribution\n",
    "5. Consider the value of mild outliers"
   ]
  },
  {
   "cell_type": "markdown",
   "id": "73357f4f",
   "metadata": {},
   "source": [
    "## 8. What are the various central inclination measures? Why does mean vary too much from median in certain data sets?"
   ]
  },
  {
   "cell_type": "markdown",
   "id": "242b3e7e",
   "metadata": {},
   "source": [
    "Ans:-mode, median, mean are the various central inclination measures.\n",
    "The mean is not a robust tool since it is largely influenced by outliers. The median is better suited for skewed distributions to derive at central tendency since it is much more robust and sensible."
   ]
  },
  {
   "cell_type": "markdown",
   "id": "11f162ae",
   "metadata": {},
   "source": [
    "## 9. Describe how a scatter plot can be used to investigate bivariate relationships. Is it possible to find outliers using a scatter plot?"
   ]
  },
  {
   "cell_type": "markdown",
   "id": "fa72a7bb",
   "metadata": {},
   "source": [
    "Ans:-The distance of the points to the line is called \"scatter\". A large amount of scatter around the line indicates a weak relationship. Little scatter represents a strong relationship. If all points fall directly on a straight line, we have a perfect linear relationship between our two variables."
   ]
  },
  {
   "cell_type": "markdown",
   "id": "ed14bfd3",
   "metadata": {},
   "source": [
    "A scatter plot is useful to find outliers in bivariate data (data with two variables). we can easily spot the outliers because they will be far away from the majority of points on the scatter plot."
   ]
  },
  {
   "cell_type": "markdown",
   "id": "079bd682",
   "metadata": {},
   "source": [
    "## 10. Describe how cross-tabs can be used to figure out how two variables are related."
   ]
  },
  {
   "cell_type": "markdown",
   "id": "2d1bbf04",
   "metadata": {},
   "source": [
    "Ans:- A crosstab is a table showing the relationship between two or more variables. Where the table only shows the relationship between two categorical variables, a crosstab is also known as a contingency table."
   ]
  },
  {
   "cell_type": "code",
   "execution_count": null,
   "id": "af78c03f",
   "metadata": {},
   "outputs": [],
   "source": []
  }
 ],
 "metadata": {
  "kernelspec": {
   "display_name": "Python 3 (ipykernel)",
   "language": "python",
   "name": "python3"
  },
  "language_info": {
   "codemirror_mode": {
    "name": "ipython",
    "version": 3
   },
   "file_extension": ".py",
   "mimetype": "text/x-python",
   "name": "python",
   "nbconvert_exporter": "python",
   "pygments_lexer": "ipython3",
   "version": "3.9.12"
  }
 },
 "nbformat": 4,
 "nbformat_minor": 5
}

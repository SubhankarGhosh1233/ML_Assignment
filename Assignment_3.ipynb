{
 "cells": [
  {
   "cell_type": "markdown",
   "id": "da2a417b",
   "metadata": {},
   "source": [
    "# Assignment_3"
   ]
  },
  {
   "cell_type": "markdown",
   "id": "b58c51ee",
   "metadata": {},
   "source": [
    "## 1.Explain the term machine learning, and how does it work? Explain two machine learning applications in the business world. What are some of the ethical concerns that machine learning applications could raise?"
   ]
  },
  {
   "cell_type": "markdown",
   "id": "6d98702d",
   "metadata": {},
   "source": [
    "Ans:- \n",
    "Machine Learning term is simply meaning machine or computer brain, which learn from our knowledge. We have to train our machine to work well."
   ]
  },
  {
   "cell_type": "markdown",
   "id": "f584bc47",
   "metadata": {},
   "source": [
    "The two machine learning applications in the business world 1. Predict Traffic Patterns and 2. Stock Market and Day Trading"
   ]
  },
  {
   "cell_type": "markdown",
   "id": "3f6548d2",
   "metadata": {},
   "source": [
    "The ethical concerns that machine learning applications could raise are Accuracy, Bias, Safety & Security, Transparency, Accountability, Human Control and Decision-making, Environmental Impact & Sustainability\n"
   ]
  },
  {
   "cell_type": "markdown",
   "id": "353e68bd",
   "metadata": {},
   "source": [
    "## 2. Describe the process of human learning:\n",
    "i. Under the supervision of experts\n",
    "\n",
    "ii. With the assistance of experts in an indirect manner\n",
    "\n",
    "iii. Self-education"
   ]
  },
  {
   "cell_type": "markdown",
   "id": "4ab74da5",
   "metadata": {},
   "source": [
    "Ans:-\n",
    "i. Under the supervision of experts - \n",
    "Human learn from their teachers,who teach them proper way.It is like a learning from  the supervision of experts."
   ]
  },
  {
   "cell_type": "markdown",
   "id": "242d28a4",
   "metadata": {},
   "source": [
    "ii. With the assistance of experts in an indirect manner - \n",
    "Indirect guidance is provided through learners actively observing, listening, and engaging with social practices and norms, which serve to furnish models and goals for performance and individuals' learning. The exercise of learner agency is a defining quality of guided learning.m"
   ]
  },
  {
   "cell_type": "markdown",
   "id": "caff9328",
   "metadata": {},
   "source": [
    "iii. Self-education - \n",
    "self-education is education without the guidance of masters such as teachers and professors or institutions such as schools. Generally, autodidacts are individuals who choose the subject they will study, their studying material, and the studying rhythm and time."
   ]
  },
  {
   "cell_type": "markdown",
   "id": "29b45260",
   "metadata": {},
   "source": [
    "## 3. Provide a few examples of various types of machine learning."
   ]
  },
  {
   "cell_type": "markdown",
   "id": "dcebd7ea",
   "metadata": {},
   "source": [
    "Ans:- Machine learning is divided into mainly four types, which are\n",
    "1. Supervised Machine Learning -\n",
    "Suppose we have an input dataset of cats and dog images. So, first, we will provide the training to the machine to understand the images, such as the shape & size of the tail of cat and dog, Shape of eyes, colour, height (dogs are taller, cats are smaller), etc. After completion of training, we input the picture of a cat and ask the machine to identify the object and predict the output.The trained machine will check all the features of the object, such as height, shape, colour, eyes, ears, tail, etc., and find that it's a cat(Cat category).\n",
    "2. Unsupervised Machine Learning -\n",
    "Suppose there is a basket of fruit images, and we input it into the machine learning model. The images are totally unknown to the model, and the task of the machine is to find the patterns and categories of the objects.The machine will discover its patterns and differences, and predict the output when it is tested with the test dataset.\n",
    "3. Semi-Supervised Machine Learning -\n",
    "Semi-Supervised learning is a type of Machine Learning algorithm that lies between Supervised and Unsupervised machine learning. Supervised learning is where a student is under the supervision of an instructor at home and college. Further, if that student is self-analysing the same concept without any help from the instructor, it comes under unsupervised learning. Under semi-supervised learning, the student has to revise himself after analyzing the same concept under the guidance of an instructor at college.\n",
    "4. Reinforcement Learning - \n",
    "Reinforcement learning works on a feedback-based process, in which an AI agent (A software component) automatically explore its surrounding by hitting & trail, taking action, learning from experiences, and improving its performance.An example of reinforcement learning is to play a game, where the Game is the environment, moves of an agent at each step define states, and the goal of the agent is to get a high score. Agent receives feedback in terms of punishment and rewards."
   ]
  },
  {
   "cell_type": "markdown",
   "id": "2ce9f9ef",
   "metadata": {},
   "source": [
    "## 4. Examine the various forms of machine learning."
   ]
  },
  {
   "cell_type": "markdown",
   "id": "831d0645",
   "metadata": {},
   "source": [
    "Ans:- \n",
    "1. Supervised learning - A business consulting firm, predicts that supervised learning will remain the most utilized machine learning among enterprise information technology leaders. This type of machine learning feeds historical input and output data in machine learning algorithms, with processing in between each input/output pair that allows the algorithm to shift the model to create outputs as closely aligned with the desired result as possible. Common algorithms used during supervised learning include neural networks, decision trees, linear regression, and support vector machines. \n",
    "2. Unsupervised learning - Supervised learning requires users to help the machine learn, unsupervised learning doesn't use the same labeled training sets and data. Instead, the machine looks for less obvious patterns in the data. This machine learning type is very helpful when you need to identify patterns and use data to make decisions. Common algorithms used in unsupervised learning include Hidden Markov models, k-means, hierarchical clustering, and Gaussian mixture models.\n",
    "3. Reinforcement learning - Reinforcement learning is the closest machine learning type to how humans learn. The algorithm or agent used learns by interacting with its environment and getting a positive or negative reward. Common algorithms include temporal difference, deep adversarial networks, and Q-learning."
   ]
  },
  {
   "cell_type": "markdown",
   "id": "3348ddc1",
   "metadata": {},
   "source": [
    "## 5. Can you explain what a well-posed learning problem is? Explain the main characteristics that must be present to identify a learning problem properly."
   ]
  },
  {
   "cell_type": "markdown",
   "id": "8559c124",
   "metadata": {},
   "source": [
    "Ans:- Well Posed Learning Problem – A computer program is said to learn from experience E in context to some task T and some performance measure P, if its performance on T, as was measured by P, upgrades with experience E. \n",
    "\n",
    "Any problem can be segregated as well-posed learning problem if it has three traits – \n",
    "Task, \n",
    "Performance Measure, \n",
    "Experience. \n",
    "1. Emails as spam or not  \n",
    "Task – Classifying emails as spam or not, \n",
    "Performance Measure – The fraction of emails accurately classified as spam or not spam, \n",
    "Experience – Observing you label emails as spam or not spam "
   ]
  },
  {
   "cell_type": "markdown",
   "id": "0dda3646",
   "metadata": {},
   "source": [
    "## 6. Is machine learning capable of solving all problems? Give a detailed explanation of your answer."
   ]
  },
  {
   "cell_type": "markdown",
   "id": "763d4b10",
   "metadata": {},
   "source": [
    "Ans:- Machine learning is not the answer to all problems. Given the usefulness of machine learning, it can be hard to accept that sometimes it is not the best solution to a problem."
   ]
  },
  {
   "cell_type": "markdown",
   "id": "ba8b24bb",
   "metadata": {},
   "source": [
    "An Machine learning system doesn't perform well if the training set is too small or if the data is not generalized, noisy, and corrupted with irrelevant features.   "
   ]
  },
  {
   "cell_type": "markdown",
   "id": "e4a319dc",
   "metadata": {},
   "source": [
    "## 7. What are the various methods and technologies for solving machine learning problems? Any two of them should be defined in detail."
   ]
  },
  {
   "cell_type": "markdown",
   "id": "707d1884",
   "metadata": {},
   "source": [
    "Ans:- Supervised learning and Unsupervised learning are the methods and technologies for solving machine learning problems."
   ]
  },
  {
   "cell_type": "markdown",
   "id": "d240c059",
   "metadata": {},
   "source": [
    "1. Supervised machine learning creates a model that makes predictions based on evidence in the presence of uncertainty. A supervised learning algorithm takes a known set of input data and known responses to the data (output) and trains a model to generate reasonable predictions for the response to the new data.\n",
    "2. Detects hidden patterns or internal structures in unsupervised learning data. It is used to eliminate datasets containing input data without labeled responses."
   ]
  },
  {
   "cell_type": "markdown",
   "id": "56cd225d",
   "metadata": {},
   "source": [
    "## 8. Can you explain the various forms of supervised learning? Explain each one with an example application."
   ]
  },
  {
   "cell_type": "markdown",
   "id": "30ff8b8e",
   "metadata": {},
   "source": [
    "Ans:- Supervised learning uses classification and regression techniques to develop machine learning models.\n",
    "1. Classification techniques predict discrete responses- Example, the email is genuine, or spam, or the tumor is cancerous or benign. Typical applications include medical imaging, speech recognition, and credit scoring.Common algorithms for performing classification include support vector machines (SVMs), boosted and bagged decision trees, k-nearest neighbors, Naive Bayes, discriminant analysis, logistic regression, and neural networks.\n",
    "\n",
    "2. Regression techniques predict continuous responses - Example, changes in temperature or fluctuations in electricity demand. Typical applications include power load forecasting and algorithmic trading.Common regression algorithms include linear, nonlinear models, regularization, stepwise regression, boosted and bagged decision trees, neural networks, and adaptive neuro-fuzzy learning.\n"
   ]
  },
  {
   "cell_type": "markdown",
   "id": "ce5ce8c7",
   "metadata": {},
   "source": [
    "## 9. What is the difference between supervised and unsupervised learning? With a sample application in each region, explain the differences."
   ]
  },
  {
   "cell_type": "markdown",
   "id": "4ea550bd",
   "metadata": {},
   "source": [
    "Ans:- The main distinction between the supervised and unsupervised learning is the use of labeled datasets.supervised learning uses labeled input and output data, while an unsupervised learning algorithm does not.\n",
    "1. Supervised learning, the algorithm “learns” from the training dataset by iteratively making predictions on the data and adjusting for the correct answer. While supervised learning models tend to be more accurate than unsupervised learning models, they require upfront human intervention to label the data appropriately. For example, a supervised learning model can predict how long our commute will be based on the time of day, weather conditions and so on. But first, we will have to train it to know that rainy weather extends the driving time.   \n",
    "2. Unsupervised learning models, in contrast, work on their own to discover the inherent structure of unlabeled data. Note that they still require some human intervention for validating output variables. For example, an unsupervised learning model can identify that online shoppers often purchase groups of products at the same time. However, a data analyst would need to validate that it makes sense for a recommendation engine to group baby clothes with an order of diapers, applesauce and sippy cups."
   ]
  },
  {
   "cell_type": "markdown",
   "id": "083b810a",
   "metadata": {},
   "source": [
    "## 10. Describe the machine learning process in depth.\n",
    "\n",
    "a. Make brief notes on any two of the following:\n",
    "\n",
    "MATLAB is one of the most widely used programming languages.\n",
    "\n",
    "ii. Deep learning applications in healthcare\n",
    "\n",
    "iii. Study of the market basket\n",
    "\n",
    "iv. Linear regression (simple)"
   ]
  },
  {
   "cell_type": "markdown",
   "id": "bf4f4eed",
   "metadata": {},
   "source": [
    "Ans:- \n",
    "1. MATLAB is one of the most widely used programming languages.- MATLAB is a computing platform that is used for engineering and scientific applications like data analysis, signal and image processing, control systems, wireless communications, and robotics. MATLAB includes a programming language, interactive apps, highly specialized libraries for engineering applications, and tools for automatically generating embedded code. MATLAB is also the foundation for Simulink, a block diagram environment for simulating complex multi-domain systems.\n",
    "2. Deep learning applications in healthcare - There are the top pathbreaking applications of deep learning in healthcare like Drug Discovery, Medical Imaging and Diagnostics, Simplifying Clinical Trials, Personalized Treatment, Improved Health Records and Patient Monitoring, Health Insurance and Fraud Detection. For Example, The role of deep learning in identifying drug combinations is significant. During the pandemic, vaccine and drug development were funded by disruptive technologies like AI, machine learning, and deep learning. Since drug discovery is a complex task, deep learning can make it faster, cost-effective, and easier. Deep learning algorithms can predict the drug properties, drug-target interaction prediction, and in generating a compound with desired properties."
   ]
  },
  {
   "cell_type": "markdown",
   "id": "bbf2c001",
   "metadata": {},
   "source": [
    "## 11. Make a comparison between:-\n",
    "\n",
    "1. Generalization and abstraction\n",
    "\n",
    "2. Learning that is guided and unsupervised\n",
    "\n",
    "3. Regression and classification"
   ]
  },
  {
   "cell_type": "markdown",
   "id": "0cab3477",
   "metadata": {},
   "source": [
    "Ans:- \n",
    "1. Generalization and abstraction - Abstraction: It involves the translation of data into broader representations. Generalization: It uses abstracted data to form a basis for action.\n",
    "2. Learning that is guided and unsupervised - 1 guided learning (Supervised Learning) uses known and labeled data as input where Unsupervised Learning uses unlabeled data as input. 2 The most commonly used supervised learning algorithms are: Decision tree, Logistic regression, Support vector machine where The most commonly used unsupervised learning algorithms are: K-means clustering, Hierarchical clustering, Apriori algorithm\n",
    "3. Regression and classification-The main difference between Regression and Classification algorithms that Regression algorithms are used to predict the continuous values such as price, salary, age, etc. and Classification algorithms are used to predict or Classify the discrete values such as Male or Female, True or False, Spam or Not Spam, etc."
   ]
  },
  {
   "cell_type": "code",
   "execution_count": null,
   "id": "fb902f17",
   "metadata": {},
   "outputs": [],
   "source": []
  }
 ],
 "metadata": {
  "kernelspec": {
   "display_name": "Python 3 (ipykernel)",
   "language": "python",
   "name": "python3"
  },
  "language_info": {
   "codemirror_mode": {
    "name": "ipython",
    "version": 3
   },
   "file_extension": ".py",
   "mimetype": "text/x-python",
   "name": "python",
   "nbconvert_exporter": "python",
   "pygments_lexer": "ipython3",
   "version": "3.9.12"
  }
 },
 "nbformat": 4,
 "nbformat_minor": 5
}

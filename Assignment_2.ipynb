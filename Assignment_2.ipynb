{
 "cells": [
  {
   "cell_type": "markdown",
   "id": "bcd6f2ee",
   "metadata": {},
   "source": [
    "# Assignment_2"
   ]
  },
  {
   "cell_type": "markdown",
   "id": "c9c81bf7",
   "metadata": {},
   "source": [
    "### 1. What is the concept of human learning? Please give two examples.\n"
   ]
  },
  {
   "cell_type": "markdown",
   "id": "c9588077",
   "metadata": {},
   "source": [
    "### Ans:\n",
    "Human brain is the most complax neural network by which human brain can learn verious work, all learning comes from preceptions which are directed to the brain by one more of the five senses(sight, hearing, touch, smell, and test).Two examples are memorizing a mathematical table and drive motor-car."
   ]
  },
  {
   "cell_type": "markdown",
   "id": "80d2ccd7",
   "metadata": {},
   "source": [
    "### 2. What different forms of human learning are there? Are there any machine learning equivalents?\n"
   ]
  },
  {
   "cell_type": "markdown",
   "id": "539ca7a8",
   "metadata": {},
   "source": [
    "### Ans: \n",
    "Different forms of human learning are Bodily-Kinesthetic Learning(It refers to using the body to learn something new, solving a problem), Linguistic Learning(It means the ability to understand a language and use written and spoken language), Logical-Mathematical Learning (This is an ability to analyze a problem logically), Spatial Learning (This involves showing patterns to solve a person’s capacity to think in 3-dimension),Musical Learning (the ability to play instruments, compose music and singing),Intrapersonal Learning(It involves non- verbal and verbal communication skills), Naturalistic Learning(This provides the ability for humans to distinguish between living things and other natural features),Existential Learning (Such Learning helps us to tackle questions related to human existence).\n",
    "Both learnings concept of solving problems are equal."
   ]
  },
  {
   "cell_type": "markdown",
   "id": "98153687",
   "metadata": {},
   "source": [
    "### 3. What is machine learning, and how does it work? What are the key responsibilities of machine learning?\n"
   ]
  },
  {
   "cell_type": "markdown",
   "id": "ddeff85b",
   "metadata": {},
   "source": [
    "### Ans:\n",
    "Machine Learning is an AI technique that teaches computers to learn from experience. Machine learning algorithms use computational methods to learn information directly from data without relying on a predetermined equation as a model.\n",
    "Machine learning uses two types of techniques supervised learning and unsupervised learning to work.\n"
   ]
  },
  {
   "cell_type": "markdown",
   "id": "d703f739",
   "metadata": {},
   "source": [
    "Supervised learning, which trains a model on known input and output data so that it can predict future outputs, and Unsupervised learning, which finds hidden patterns or intrinsic structures in input data."
   ]
  },
  {
   "cell_type": "markdown",
   "id": "ba436a80",
   "metadata": {},
   "source": [
    "### 4. Define the terms &quot;penalty&quot; and &quot;reward&quot; in the context of reinforcement learning.\n"
   ]
  },
  {
   "cell_type": "markdown",
   "id": "a1d1d434",
   "metadata": {},
   "source": [
    "### Ans:\n",
    "Reinforcement learning is all about gamifying the learning process.\n",
    "This type of machine learning uses a \"reward-penalty\" method to teach an AI system. If it makes the right move, it gets rewarded. If it makes a mistake, it receives a penalty."
   ]
  },
  {
   "cell_type": "markdown",
   "id": "c3e9c007",
   "metadata": {},
   "source": [
    "### 5. Explain the term &quot;learning as a search&quot;?\n"
   ]
  },
  {
   "cell_type": "markdown",
   "id": "404ba87c",
   "metadata": {},
   "source": [
    "### Ans:\n",
    "Concept learning can be viewed as the task of searching through a large space of hypotheses implicitly defined by the hypothesis representation. The goal of this search is to find the hypothesis that best fits the training examples. It is important to note that by selecting a hypothesis representation, the designer of the learning algorithm implicitly defines the space of all hypotheses that the program can ever represent and therefore can ever learn.\n",
    "If we view learning as a search problem, then it is natural that our study of learning algorithms will examine the different strategies for searching the hypothesis space. We will be particularly interested in algorithms capable of efficiently searching very large or infinite hypothesis spaces, to find the hypotheses that best fit the training data."
   ]
  },
  {
   "cell_type": "markdown",
   "id": "7a8fbe0c",
   "metadata": {},
   "source": [
    "### 6. What are the various goals of machine learning? What is the relationship between these and human learning?\n"
   ]
  },
  {
   "cell_type": "markdown",
   "id": "47a2944a",
   "metadata": {},
   "source": [
    "### Ans:\n",
    "The goal of machine learning is to understand the nature of learning, and to build learning capability in computers. To be more specific, To make the computers smarter, more intelligent, To dev elop computational models of human learning process and perform computer simulations.\n",
    "The study in this aspect is also called cognitive modeling, and To explore new learning methods and develop general learning algorithms independent of applications.\n",
    "\n",
    "We compare the human learning with machine learning along the dimensions of speed, ability to\n",
    "transfer data, requirement of repetition, error-prone and others. which shows that machine learning is both an opportunity and challenge, in the sense\n",
    "that we can hope to discover ways for machine to learn which are better than ways human learn , and that there are amply amount of difficulties to be overcome in order to make machines learn."
   ]
  },
  {
   "cell_type": "markdown",
   "id": "6ffea110",
   "metadata": {},
   "source": [
    "### 7. Illustrate the various elements of machine learning using a real-life illustration.\n"
   ]
  },
  {
   "cell_type": "markdown",
   "id": "c41390b3",
   "metadata": {},
   "source": [
    "### Ans:\n",
    "Machine learning can classify available data into groups, which are then defined by rules set by analysts. When the classification is complete, the analysts can calculate the probability of a fault.Real-Life examples of predictive analytics.\n",
    "\n",
    "Predictive analytics is one of the most promising examples of machine learning. It's applicable for everything; from product development to real estate pricing."
   ]
  },
  {
   "cell_type": "markdown",
   "id": "c8124af1",
   "metadata": {},
   "source": [
    "### 8. Provide an example of the abstraction method.\n"
   ]
  },
  {
   "cell_type": "markdown",
   "id": "f47bbef0",
   "metadata": {},
   "source": [
    "### Ans:\n",
    "An example of the abstraction method is when we are driving a car, we are only concerned about driving the car like start/stop the car, accelerate/ break, etc. We are not concerned about how the actual start/stop mechanism or accelerate/brake process works internally. We are just not interested in those details.\n",
    "abstraction displays only the relevant attributes of objects and hides the unnecessary details."
   ]
  },
  {
   "cell_type": "markdown",
   "id": "288e7af8",
   "metadata": {},
   "source": [
    "### 9. What is the concept of generalization? What function does it play in the machine learning process?\n"
   ]
  },
  {
   "cell_type": "markdown",
   "id": "026a28ab",
   "metadata": {},
   "source": [
    "### Ans:\n",
    "Generalization is the concept that humans, other animals, and artificial neural networks use past learning in present situations of learning if the conditions in the situations are regarded as similar."
   ]
  },
  {
   "cell_type": "markdown",
   "id": "0c5899b5",
   "metadata": {},
   "source": [
    "Generalization is the ability to complete a task, perform an activity, or display a behavior across settings, with different people, and at different times. The reason we are able to complete everyday tasks in a variety of situations and settings is that we have “generalized” the skills involved."
   ]
  },
  {
   "cell_type": "markdown",
   "id": "f7ae5f18",
   "metadata": {},
   "source": [
    "### 10. What is classification, exactly? What are the main distinctions between classification and regression?\n"
   ]
  },
  {
   "cell_type": "markdown",
   "id": "6d9567a3",
   "metadata": {},
   "source": [
    "### Ans:\n",
    "classification, is exactly the process of finding or discovering a model or function which helps in separating the data into multiple categorical classes.\n",
    "\n",
    "Classification predicts discrete class labels(makes yes or no predictions), where, Regression makes continuous quantitative predictions."
   ]
  },
  {
   "cell_type": "markdown",
   "id": "be7ec0aa",
   "metadata": {},
   "source": [
    "### 11. What is regression, and how does it work? Give an example of a real-world problem that was solved using regression.\n"
   ]
  },
  {
   "cell_type": "markdown",
   "id": "1c448189",
   "metadata": {},
   "source": [
    "### Ans:\n",
    "A regression is a statistical technique that relates a dependent variable to one or more independent (explanatory) variables. A regression model is able to show whether changes observed in the dependent variable are associated with changes in one or more of the explanatory variables.\n",
    "\n",
    "The medical researchers often use linear regression to understand the relationship between drug dosage and blood pressure of patients This is a real-world problem that was solved using regression."
   ]
  },
  {
   "cell_type": "markdown",
   "id": "64e3f46f",
   "metadata": {},
   "source": [
    "### 12. Describe the clustering mechanism in detail.\n"
   ]
  },
  {
   "cell_type": "markdown",
   "id": "5c0fbc87",
   "metadata": {},
   "source": [
    "### Ans:\n",
    "Clustering is basically a type of unsupervised learning method.Clustering is very much important as it determines the intrinsic grouping among the unlabelled data present. There are no criteria for good clustering. It depends on the user, and what criteria they may use which satisfy their need."
   ]
  },
  {
   "cell_type": "markdown",
   "id": "c688f489",
   "metadata": {},
   "source": [
    "### 13. Make brief observations on two of the following topics:\n",
    "\n",
    "i. Machine learning algorithms are used\n",
    "ii. Studying under supervision\n",
    "iii. Studying without supervision\n",
    "\n",
    "iv. Reinforcement learning is a form of learning based on positive reinforcement."
   ]
  },
  {
   "cell_type": "markdown",
   "id": "760a584c",
   "metadata": {},
   "source": [
    "### Ans:\n",
    "i. Machine learning algorithms are used -\n",
    "At its most basic, machine learning uses programmed algorithms that receive and analyse input data to predict output values within an acceptable range.The three machine learning types are supervised, unsupervised, and reinforcement learning."
   ]
  },
  {
   "cell_type": "markdown",
   "id": "428618b7",
   "metadata": {},
   "source": [
    "ii. Studying under supervision-\n",
    "Supervised learning is the types of machine learning in which machines are trained using well \"labelled\" training data, and on basis of that data, machines predict the output. The labelled data means some input data is already tagged with the correct output.\n",
    "In supervised learning, the training data provided to the machines work as the supervisor that teaches the machines to predict the output correctly. It applies the same concept as a student learns in the supervision of the teacher."
   ]
  },
  {
   "cell_type": "markdown",
   "id": "f9134bb5",
   "metadata": {},
   "source": [
    "iii. Studying without supervision-\n",
    "Unsupervised learning is the training of a machine using information that is neither classified nor labeled and allowing the algorithm to act on that information without guidance. Here the task of the machine is to group unsorted information according to similarities, patterns, and differences without any prior training of data. \n",
    "Unlike supervised learning, no teacher is provided that means no training will be given to the machine. Therefore the machine is restricted to find the hidden structure in unlabeled data by itself. "
   ]
  },
  {
   "cell_type": "markdown",
   "id": "252670ef",
   "metadata": {},
   "source": [
    "iv. Reinforcement learning is a form of learning based on positive reinforcement.-\n",
    "Reinforcement learning is the training of machine learning models to make a sequence of decisions. The agent learns to achieve a goal in an uncertain, potentially complex environment. In reinforcement learning, artificial intelligence faces a game-like situation. The computer employs trial and error to come up with a solution to the problem. To get the machine to do what the programmer wants, the artificial intelligence gets either rewards or penalties for the actions it performs. Its goal is to maximize the total reward.It is defined as an event, that occurs because of specific behavior. It increases the strength and the frequency of the behavior and impacts positively on the action taken by the agent."
   ]
  },
  {
   "cell_type": "code",
   "execution_count": null,
   "id": "42ce4601",
   "metadata": {},
   "outputs": [],
   "source": []
  }
 ],
 "metadata": {
  "kernelspec": {
   "display_name": "Python 3 (ipykernel)",
   "language": "python",
   "name": "python3"
  },
  "language_info": {
   "codemirror_mode": {
    "name": "ipython",
    "version": 3
   },
   "file_extension": ".py",
   "mimetype": "text/x-python",
   "name": "python",
   "nbconvert_exporter": "python",
   "pygments_lexer": "ipython3",
   "version": "3.9.12"
  }
 },
 "nbformat": 4,
 "nbformat_minor": 5
}

{
 "cells": [
  {
   "cell_type": "markdown",
   "id": "4ca34942",
   "metadata": {},
   "source": [
    "# Assignment_6"
   ]
  },
  {
   "cell_type": "markdown",
   "id": "6a17aa6c",
   "metadata": {},
   "source": [
    "## 1. In the sense of machine learning, what is a model? What is the best way to train a model?"
   ]
  },
  {
   "cell_type": "markdown",
   "id": "e197ce4b",
   "metadata": {},
   "source": [
    "Ans:- A model is a simplified version of the observations. Machine learning models are computer programs that are used to recognize patterns in data or make predictions. "
   ]
  },
  {
   "cell_type": "markdown",
   "id": "72ec87b9",
   "metadata": {},
   "source": [
    "To train a model we need to go through some steps-  \n",
    "1. Collecting Data or Data ingestion\n",
    "2. Exploratory Data Analysis\n",
    "3. Preprocessing Data\n",
    "4. Building a model\n",
    "5. Evaluating the Model"
   ]
  },
  {
   "cell_type": "markdown",
   "id": "bea198c3",
   "metadata": {},
   "source": [
    "## 2. In the sense of machine learning, explain the &quot;No Free Lunch&quot; theorem."
   ]
  },
  {
   "cell_type": "markdown",
   "id": "6627aea1",
   "metadata": {},
   "source": [
    "Ans:- If you make absolutely no assumption about the data, then there is no reason to prefer one model over any other. This is called the \"No Free Lunch\" theorem. For some datasets the best model is a linear model, while for other datasets it is a neural network. There is no model that is a priori guaranteed to work better . The only way to know for sure which model is best is to evaluate them all. Since this is not possible, in practice you make some reasonable assumptions about the data and you evaluate only a few reasonable models. "
   ]
  },
  {
   "cell_type": "markdown",
   "id": "04c5e86d",
   "metadata": {},
   "source": [
    "## 3. Describe the K-fold cross-validation mechanism in detail."
   ]
  },
  {
   "cell_type": "markdown",
   "id": "d65b520f",
   "metadata": {},
   "source": [
    "Ans:- K-fold cross-validation approach divides the input dataset into K groups of samples of equal sizes. These samples are called folds. For each learning set, the prediction function uses k-1 folds, and the rest of the folds are used for the test set. This approach is a very popular CV approach because it is easy to understand, and the output is less biased than other methods."
   ]
  },
  {
   "cell_type": "markdown",
   "id": "2444837a",
   "metadata": {},
   "source": [
    "## 4. Describe the bootstrap sampling method. What is the aim of it?"
   ]
  },
  {
   "cell_type": "markdown",
   "id": "46afbd8a",
   "metadata": {},
   "source": [
    "Ans:- Bootstrap sampling is used in a machine learning ensemble algorithm called bootstrap aggregating (also called bagging). It helps in avoiding overfitting and improves the stability of machine learning algorithms."
   ]
  },
  {
   "cell_type": "markdown",
   "id": "008471fe",
   "metadata": {},
   "source": [
    "## 5. What is the significance of calculating the Kappa value for a classification model? Demonstrate how to measure the Kappa value of a classification model using a sample collection of results."
   ]
  },
  {
   "cell_type": "markdown",
   "id": "52fd16ed",
   "metadata": {},
   "source": [
    "Ans:- Kappa can range from 0 to 1. A value of 0 means that there is no agreement between the raters (real-world observer vs classification model), and a value of 1 means that there is perfect agreement between the raters. In most cases, anything over 0.7 is considered to be very good agreement."
   ]
  },
  {
   "cell_type": "markdown",
   "id": "1e36d354",
   "metadata": {},
   "source": [
    "This is calculated by multiplying the expected probability that both the raters are in agreement that the classes are positive, and, the classes are negative."
   ]
  },
  {
   "cell_type": "markdown",
   "id": "e5acac1f",
   "metadata": {},
   "source": [
    "## 6. Describe the model ensemble method. In machine learning, what part does it play?"
   ]
  },
  {
   "cell_type": "markdown",
   "id": "5f2bc75d",
   "metadata": {},
   "source": [
    "Ans:- An ensemble is a machine learning model that combines the predictions from two or more models."
   ]
  },
  {
   "cell_type": "markdown",
   "id": "03f9ebf4",
   "metadata": {},
   "source": [
    "In machine learning, it works on High variance, Low accuracy, Features noise and bias."
   ]
  },
  {
   "cell_type": "markdown",
   "id": "d926e7bd",
   "metadata": {},
   "source": [
    "## 7. What is a descriptive model&#39;s main purpose? Give examples of real-world problems that descriptive models were used to solve."
   ]
  },
  {
   "cell_type": "markdown",
   "id": "af6231f3",
   "metadata": {},
   "source": [
    "Ans:- A descriptive model describes a system or other entity and its relationship to its environment. It is generally used to help specify and/or understand what the system is, what it does, and how it does it."
   ]
  },
  {
   "cell_type": "markdown",
   "id": "48f74abd",
   "metadata": {},
   "source": [
    "To find the most optimal route for a delivery driver in order to maximize fuel usage and time, Electric energy consumption to power a city during a heatwave, etc. are the real-world problems that descriptive models were used to solve."
   ]
  },
  {
   "cell_type": "markdown",
   "id": "e260f37b",
   "metadata": {},
   "source": [
    "## 8. Describe how to evaluate a linear regression model."
   ]
  },
  {
   "cell_type": "markdown",
   "id": "aaca3442",
   "metadata": {},
   "source": [
    "Ans:- Linear Regression Analysis consists of more than just fitting a linear line through a cloud of data points.  It consists of 3 stages – (1) analyzing the correlation and directionality of the data, (2) estimating the model, fitting the line, and (3) evaluating the validity and usefulness of the model."
   ]
  },
  {
   "cell_type": "markdown",
   "id": "88f0a5f4",
   "metadata": {},
   "source": [
    "## 9. Distinguish :\n",
    "\n",
    "1. Descriptive vs. predictive models\n",
    "\n",
    "2. Underfitting vs. overfitting the model\n",
    "\n",
    "3. Bootstrapping vs. cross-validation"
   ]
  },
  {
   "cell_type": "markdown",
   "id": "c9ce2c66",
   "metadata": {},
   "source": [
    "Ans:- \n",
    "1. Descriptive vs. predictive models - A descriptive model will exploit the past data that are stored in databases and provide you with an accurate report. A Predictive model, identifies patterns found in past and transactional data to find risks and future outcomes.Descriptive Analytics uses Data Aggregation and Data Mining techniques to give you knowledge about the past, but Predictive Analytics uses Statistical analysis and Forecast techniques to know the future.\n",
    "2. Underfitting vs. overfitting the model - Underfitting is when the training error is high. Overfitting is when the testing error is high compared to the training error, or the gap between the two is large.\n",
    "3. Bootstrapping vs. cross-validation - Bootstrapping method uses the original dataset to create multiple datasets after resampling with replacement, and Cross validation splits the available dataset to create multiple datasets. Bootstrapping it is not as strong as Cross validation when it is used for model validation."
   ]
  },
  {
   "cell_type": "markdown",
   "id": "18e90db5",
   "metadata": {},
   "source": [
    "## 10. Make quick notes on:\n",
    "\n",
    "1. LOOCV.\n",
    "\n",
    "2. F-measurement\n",
    "\n",
    "3. The width of the silhouette\n",
    "\n",
    "4. Receiver operating characteristic curve"
   ]
  },
  {
   "cell_type": "markdown",
   "id": "9b304163",
   "metadata": {},
   "source": [
    "Ans:- \n",
    "1. LOOCV - This procedure is used to estimate the performance of machine learning algorithms when they are used to make predictions on data not used to train the model.\n",
    "2. F-measurement - In statistical analysis of binary classification, the F-score or F-measure is a measure of a test's accuracy.\n",
    "3. The width of the silhouette - Width of the silhouette is a widely used index for assessing the fit of individual objects in the classification, as well as the quality of clusters and the entire classification.\n",
    "4. Receiver operating characteristic curve -  A receiver operating characteristic curve, or ROC curve, is a graphical plot that illustrates the diagnostic ability of a binary classifier system as its discrimination threshold is varied. The ROC curve is created by plotting the true positive rate (TPR) against the false positive rate (FPR) at various threshold settings."
   ]
  },
  {
   "cell_type": "code",
   "execution_count": null,
   "id": "afcbb72e",
   "metadata": {},
   "outputs": [],
   "source": []
  }
 ],
 "metadata": {
  "kernelspec": {
   "display_name": "Python 3 (ipykernel)",
   "language": "python",
   "name": "python3"
  },
  "language_info": {
   "codemirror_mode": {
    "name": "ipython",
    "version": 3
   },
   "file_extension": ".py",
   "mimetype": "text/x-python",
   "name": "python",
   "nbconvert_exporter": "python",
   "pygments_lexer": "ipython3",
   "version": "3.9.12"
  }
 },
 "nbformat": 4,
 "nbformat_minor": 5
}
